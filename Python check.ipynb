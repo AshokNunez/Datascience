{
 "cells": [
  {
   "cell_type": "code",
   "execution_count": null,
   "metadata": {
    "colab": {
     "base_uri": "https://localhost:8080/"
    },
    "id": "_UDypOqMIb5W",
    "outputId": "aa378b90-901c-400c-8d6b-8f1adf691584"
   },
   "outputs": [],
   "source": [
    "import pandas as pd\n",
    "import numpy as np\n",
    "sales_data = pd.read_excel(\"\")"
   ]
  },
  {
   "cell_type": "markdown",
   "metadata": {
    "id": "uOVGkbBQh814"
   },
   "source": [
    "## Question 1: What percentage of overall Sales do each of the categories contribute in 2019?"
   ]
  },
  {
   "cell_type": "code",
   "execution_count": null,
   "metadata": {
    "colab": {
     "base_uri": "https://localhost:8080/",
     "height": 310
    },
    "id": "kp6DsIVPWVeB",
    "outputId": "f82a9460-8ea7-43ee-ccbe-b516c8bf8d58"
   },
   "outputs": [],
   "source": []
  },
  {
   "cell_type": "markdown",
   "metadata": {
    "id": "7JBSZIGRiAtv"
   },
   "source": [
    "## Question 2: List the top 3 cities in terms of the number of orders for each time of the day (Morning/Afternoon/Evening/Night).\n"
   ]
  },
  {
   "cell_type": "code",
   "execution_count": null,
   "metadata": {
    "id": "2SqzUqRXWVLB"
   },
   "outputs": [],
   "source": []
  },
  {
   "cell_type": "markdown",
   "metadata": {
    "id": "S-5wsdi9iJjp"
   },
   "source": [
    "## Question 3: Find the top 3 customers by Sales."
   ]
  },
  {
   "cell_type": "code",
   "execution_count": null,
   "metadata": {
    "id": "u1rfpMSzWUxt"
   },
   "outputs": [],
   "source": []
  },
  {
   "cell_type": "markdown",
   "metadata": {
    "id": "a3JV3kTPHMcP"
   },
   "source": [
    "## Question 4. Write a python function that reverse the order of the words and remove numbers and puncutuations.\n",
    "\n",
    "Given an input string s, reverse the order of the words and remove numbers and puncutuations.\n",
    "\n",
    "Return a string of the words in reverse order concatenated by a single space.\n",
    "\n",
    "Note that s may contain leading or trailing spaces or multiple spaces between two words. The returned string should only have a single space separating the words. Do not include any extra spaces.\n",
    "\n",
    "**Example 1:**\n",
    "\n",
    "Input: s = \"the sky is blue\"\\\n",
    "Output: \"blue is sky the\"\n",
    "\n",
    "**Example 2:**\n",
    "\n",
    "Input: s = \"  hello 99 world  !!\"\\\n",
    "Output: \"world hello\" \\\n",
    "Explanation: Your reversed string should not contain leading or trailing spaces.\n",
    "\n",
    "**Example 3:**\n",
    "\n",
    "Input: s = \"a good   example 11 22 ..\"\\\n",
    "Output: \"example good a\"\\\n",
    "Explanation: You need to reduce multiple spaces between two words to a single space in the reversed string.\n"
   ]
  },
  {
   "cell_type": "code",
   "execution_count": 13,
   "metadata": {
    "colab": {
     "base_uri": "https://localhost:8080/",
     "height": 36
    },
    "id": "Up-ZLBDwtGNb",
    "outputId": "346d6faf-c879-4fb5-b754-3c3a9eae1a24"
   },
   "outputs": [
    {
     "data": {
      "text/plain": [
       "'!\"#$%&\\'()*+,-./:;<=>?@[\\\\]^_`{|}~'"
      ]
     },
     "execution_count": 13,
     "metadata": {},
     "output_type": "execute_result"
    }
   ],
   "source": [
    "import string\n",
    "string.digits\n",
    "string.punctuation"
   ]
  },
  {
   "cell_type": "code",
   "execution_count": 16,
   "metadata": {},
   "outputs": [
    {
     "data": {
      "text/plain": [
       "'0123456789abcdefghijklmnopqrstuvwxyzABCDEFGHIJKLMNOPQRSTUVWXYZ!\"#$%&\\'()*+,-./:;<=>?@[\\\\]^_`{|}~ \\t\\n\\r\\x0b\\x0c'"
      ]
     },
     "execution_count": 16,
     "metadata": {},
     "output_type": "execute_result"
    }
   ],
   "source": [
    "string.printable"
   ]
  },
  {
   "cell_type": "code",
   "execution_count": 17,
   "metadata": {
    "id": "baun_rFLGTwY"
   },
   "outputs": [],
   "source": [
    "import re\n",
    "def reverseWords(s:str) -> str:\n",
    "    ### Write your code here..\n",
    "    #####\n",
    "    \n",
    "    return \n",
    "\n"
   ]
  },
  {
   "cell_type": "markdown",
   "metadata": {
    "id": "J6YcmQAKKhak"
   },
   "source": [
    "### Test cases & expected output"
   ]
  },
  {
   "cell_type": "code",
   "execution_count": 3,
   "metadata": {
    "colab": {
     "base_uri": "https://localhost:8080/"
    },
    "id": "hX4-bhLoHly6",
    "outputId": "6ba2a2f2-b808-49a5-dc92-9ff9ae80ff19"
   },
   "outputs": [
    {
     "data": {
      "text/plain": [
       "'blue is sky the'"
      ]
     },
     "execution_count": 3,
     "metadata": {},
     "output_type": "execute_result"
    }
   ],
   "source": [
    "# Check\n",
    "reverseWords(\"the sky is blue\")"
   ]
  },
  {
   "cell_type": "code",
   "execution_count": 4,
   "metadata": {
    "colab": {
     "base_uri": "https://localhost:8080/"
    },
    "id": "g0o0x-LQKhak",
    "outputId": "52cd303b-e3e5-4379-8297-8481eee9fecd",
    "scrolled": true
   },
   "outputs": [
    {
     "data": {
      "text/plain": [
       "'world hello'"
      ]
     },
     "execution_count": 4,
     "metadata": {},
     "output_type": "execute_result"
    }
   ],
   "source": [
    "reverseWords(\"  hello 99 world  !!\")"
   ]
  },
  {
   "cell_type": "code",
   "execution_count": 5,
   "metadata": {
    "colab": {
     "base_uri": "https://localhost:8080/"
    },
    "id": "IJ3vC3OFKhal",
    "outputId": "f1958800-24d8-4eac-dbbb-98092d4e7767"
   },
   "outputs": [
    {
     "data": {
      "text/plain": [
       "'example good a'"
      ]
     },
     "execution_count": 5,
     "metadata": {},
     "output_type": "execute_result"
    }
   ],
   "source": [
    "reverseWords(\"a good   example 11 22 ..\")"
   ]
  }
 ],
 "metadata": {
  "colab": {
   "provenance": []
  },
  "kernelspec": {
   "display_name": "base",
   "language": "python",
   "name": "python3"
  },
  "language_info": {
   "codemirror_mode": {
    "name": "ipython",
    "version": 3
   },
   "file_extension": ".py",
   "mimetype": "text/x-python",
   "name": "python",
   "nbconvert_exporter": "python",
   "pygments_lexer": "ipython3",
   "version": "3.12.4"
  }
 },
 "nbformat": 4,
 "nbformat_minor": 0
}
